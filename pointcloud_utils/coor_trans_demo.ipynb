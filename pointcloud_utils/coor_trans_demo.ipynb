{
 "cells": [
  {
   "cell_type": "code",
   "execution_count": 1,
   "source": [
    "# (32., -7.3, -0.73) \n",
    "import coor_trans\n",
    "\n",
    "car_map_lon = 125.1569996\n",
    "car_map_lat = 43.8332673\n",
    "car_map_heading = 200.94\n",
    "coor_trans.lidar_coor2gps(car_map_lon, car_map_lat, car_map_heading, 31.15, -6.2, 0)\n",
    "\n",
    " \n"
   ],
   "outputs": [
    {
     "output_type": "execute_result",
     "data": {
      "text/plain": [
       "(125.15706811196904, 43.83297887003003, 200.94)"
      ]
     },
     "metadata": {},
     "execution_count": 1
    }
   ],
   "metadata": {}
  },
  {
   "cell_type": "code",
   "execution_count": null,
   "source": [],
   "outputs": [],
   "metadata": {}
  }
 ],
 "metadata": {
  "orig_nbformat": 4,
  "language_info": {
   "name": "python",
   "version": "3.7.11",
   "mimetype": "text/x-python",
   "codemirror_mode": {
    "name": "ipython",
    "version": 3
   },
   "pygments_lexer": "ipython3",
   "nbconvert_exporter": "python",
   "file_extension": ".py"
  },
  "kernelspec": {
   "name": "python3",
   "display_name": "Python 3.7.11 64-bit ('open3d': conda)"
  },
  "interpreter": {
   "hash": "a0bfeda3bf7663c04dcc738b3340fa25ed4773d8618485aa84608b200575569a"
  }
 },
 "nbformat": 4,
 "nbformat_minor": 2
}