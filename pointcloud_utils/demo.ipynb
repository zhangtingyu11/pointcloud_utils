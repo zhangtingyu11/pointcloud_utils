{
 "cells": [
  {
   "cell_type": "code",
   "execution_count": 17,
   "source": [
    "import sys\n",
    "sys.path.append('..')\n",
    "from pointcloud_utils.bbox_utils import BoundingBox_2d\n",
    "from pointcloud_utils.pointcloud import PointCloud\n",
    "from pointcloud_utils.evaluation import Evaluation_3d"
   ],
   "outputs": [],
   "metadata": {}
  },
  {
   "cell_type": "code",
   "execution_count": 18,
   "source": [
    "pc = PointCloud(channel_num=4, filename='../data/TCC12.pcd')\n",
    "pc.create_vis()\n",
    "pred_boxes = pc.draw_3dboxes_from_txt('../data/PC_0729_3_pred.txt')\n",
    "gt_boxes = pc.draw_3dboxes_from_txt('../data/PC_0729_3.txt', color = [1,0,1])\n",
    "pc.display_pc()\n",
    "eval = Evaluation_3d(pred_boxes, gt_boxes, 0.5)\n",
    "eval.compute_recall()"
   ],
   "outputs": [
    {
     "output_type": "stream",
     "name": "stdout",
     "text": [
      "TP num:20\n",
      "FP num:8\n",
      "Recall:0.9090909090909091\n"
     ]
    },
    {
     "output_type": "execute_result",
     "data": {
      "text/plain": [
       "0.9090909090909091"
      ]
     },
     "metadata": {},
     "execution_count": 18
    }
   ],
   "metadata": {}
  },
  {
   "cell_type": "code",
   "execution_count": null,
   "source": [],
   "outputs": [],
   "metadata": {}
  }
 ],
 "metadata": {
  "orig_nbformat": 4,
  "language_info": {
   "name": "python",
   "version": "3.7.11",
   "mimetype": "text/x-python",
   "codemirror_mode": {
    "name": "ipython",
    "version": 3
   },
   "pygments_lexer": "ipython3",
   "nbconvert_exporter": "python",
   "file_extension": ".py"
  },
  "kernelspec": {
   "name": "python3",
   "display_name": "Python 3.7.11 64-bit ('open3d': conda)"
  },
  "interpreter": {
   "hash": "a0bfeda3bf7663c04dcc738b3340fa25ed4773d8618485aa84608b200575569a"
  }
 },
 "nbformat": 4,
 "nbformat_minor": 2
}